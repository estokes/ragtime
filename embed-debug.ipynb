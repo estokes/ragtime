{
 "cells": [
  {
   "cell_type": "code",
   "execution_count": 1,
   "id": "c8ce8379-dd8e-44d4-85e4-acbeba4d5928",
   "metadata": {},
   "outputs": [],
   "source": [
    "import torch\n",
    "import torch.nn.functional as F\n",
    "from torch import Tensor\n",
    "from transformers import AutoTokenizer, AutoModel"
   ]
  },
  {
   "cell_type": "code",
   "execution_count": 2,
   "id": "4f435553-d8d6-4bd8-988e-69cd2602626b",
   "metadata": {},
   "outputs": [],
   "source": [
    "def last_token_pool(last_hidden_states: Tensor, attention_mask: Tensor) -> Tensor:\n",
    "    left_padding = (attention_mask[:, -1].sum() == attention_mask.shape[0])\n",
    "    if left_padding:\n",
    "        return last_hidden_states[:, -1]\n",
    "    else:\n",
    "        sequence_lengths = attention_mask.sum(dim=1) - 1\n",
    "        batch_size = last_hidden_states.shape[0]\n",
    "        return last_hidden_states[torch.arange(batch_size, device=last_hidden_states.device), sequence_lengths]"
   ]
  },
  {
   "cell_type": "code",
   "execution_count": 3,
   "id": "033c2e05-6c2b-4456-8224-172d76a80b22",
   "metadata": {},
   "outputs": [],
   "source": [
    "def prompt(task_description: str, query: str) -> str:\n",
    "    return f'Instruct: {task_description}\\nQuery: {query}'"
   ]
  },
  {
   "cell_type": "code",
   "execution_count": 64,
   "id": "3cafe920-cad1-4fea-a732-5b030f79b458",
   "metadata": {},
   "outputs": [],
   "source": [
    "task = 'Given a web search query, retrieve relevant passages that answer the query'\n",
    "\n",
    "queries = [\n",
    "    prompt(task, 'What is netidx?'),\n",
    "    prompt(task, 'is it possible to use netidx in a shell script?')\n",
    "]\n",
    "# No need to add instruction for retrieval documents\n",
    "documents = [\n",
    "    \"Netidx is a middleware system for publishing and consuming values across networks or on the same machine. It uses a hierarchical namespace for globally unique names, allowing values to be updated and subscribers to receive notifications of changes. Unlike LDAP, Netidx doesn't store entries or attributes, and unlike MQTT, it doesn't have a centralized broker. It supports browsable directories, authentication, authorization, and encryption. Values can be both read and written, and subscribers receive updates reliably and in order. Netidx's data format includes primitive types and supports zero-copy decoding for efficiency. Security is optional but can be enforced with Kerberos, Local, or TLS. It's cross-platform and designed for large namespaces with delegation and replication capabilities.\",\n",
    "    \"This shell script automates the process of publishing vmstat data to netidx. The script starts by defining a base path and uses `vmstat -n 1` to print the header and one line of data per second. It then reads each field of the output, reformats it into a publishable format, and pipes this data to `netidx` to display it in a browser as a table. Additionally, the script can aggregate and publish total values for each vmstat field across multiple hosts by listing all relevant paths under `/sys/vmstat`, filtering out the total row, and using an associative array to keep track of individual host totals for each field. This allows for real-time monitoring and aggregation of system performance metrics across a network of machines.\",\n",
    "    \"This text is too short to summarize\"\n",
    "]\n",
    "input_texts = queries + documents"
   ]
  },
  {
   "cell_type": "code",
   "execution_count": 6,
   "id": "52fd2624-6d79-4e08-be73-f44fae179341",
   "metadata": {},
   "outputs": [
    {
     "name": "stderr",
     "output_type": "stream",
     "text": [
      "Special tokens have been added in the vocabulary, make sure the associated word embeddings are fine-tuned or trained.\n"
     ]
    },
    {
     "data": {
      "application/vnd.jupyter.widget-view+json": {
       "model_id": "0ef7f46c2924461aae9dd44a0f9fcb51",
       "version_major": 2,
       "version_minor": 0
      },
      "text/plain": [
       "Loading checkpoint shards:   0%|          | 0/7 [00:00<?, ?it/s]"
      ]
     },
     "metadata": {},
     "output_type": "display_data"
    }
   ],
   "source": [
    "tokenizer = AutoTokenizer.from_pretrained('/home/eric/proj/gte-Qwen2-7B-instruct', trust_remote_code=True)\n",
    "model = AutoModel.from_pretrained('/home/eric/proj/gte-Qwen2-7B-instruct', trust_remote_code=True)"
   ]
  },
  {
   "cell_type": "code",
   "execution_count": 65,
   "id": "51e13eca-310d-4109-85e6-b6d07845691a",
   "metadata": {},
   "outputs": [
    {
     "name": "stdout",
     "output_type": "stream",
     "text": [
      "[[69.60458374023438, 32.227603912353516, 14.335012435913086], [53.810001373291016, 53.52702331542969, 14.783313751220703]]\n"
     ]
    }
   ],
   "source": [
    "# Tokenize the input texts\n",
    "batch_dict = tokenizer(input_texts, max_length=8192, padding=True, truncation=True, return_tensors='pt')\n",
    "outputs = model(**batch_dict)\n",
    "embeddings = last_token_pool(outputs.last_hidden_state, batch_dict['attention_mask'])\n",
    "\n",
    "# normalize embeddings\n",
    "embeddings = F.normalize(embeddings, p=2, dim=1)\n",
    "scores = (embeddings[:2] @ embeddings[2:].T) * 100\n",
    "print(scores.tolist())"
   ]
  },
  {
   "cell_type": "code",
   "execution_count": 18,
   "id": "8126296a-43d0-4844-8469-bee72338b7b4",
   "metadata": {},
   "outputs": [
    {
     "data": {
      "text/plain": [
       "torch.Size([4, 3584])"
      ]
     },
     "execution_count": 18,
     "metadata": {},
     "output_type": "execute_result"
    }
   ],
   "source": [
    "embeddings.shape"
   ]
  },
  {
   "cell_type": "code",
   "execution_count": 61,
   "id": "6be78326-1cf7-4368-b9cd-2b5c7213d65e",
   "metadata": {},
   "outputs": [
    {
     "data": {
      "text/plain": [
       "tensor([[151643, 151643, 151643, 151643, 151643, 151643, 151643, 151643, 151643,\n",
       "         151643, 151643, 151643, 151643, 151643, 151643, 151643, 151643, 151643,\n",
       "         151643, 151643, 151643, 151643, 151643, 151643, 151643, 151643, 151643,\n",
       "         151643, 151643, 151643, 151643, 151643, 151643, 151643, 151643, 151643,\n",
       "         151643, 151643, 151643, 151643, 151643, 151643, 151643, 151643, 151643,\n",
       "         151643, 151643, 151643, 151643, 151643, 151643, 151643, 151643, 151643,\n",
       "         151643, 151643, 151643, 151643, 151643, 151643, 151643, 151643, 151643,\n",
       "         151643, 151643, 151643, 151643, 151643, 151643, 151643, 151643, 151643,\n",
       "         151643, 151643, 151643, 151643, 151643, 151643, 151643, 151643, 151643,\n",
       "         151643, 151643, 151643, 151643, 151643, 151643, 151643, 151643, 151643,\n",
       "         151643, 151643, 151643, 151643, 151643, 151643, 151643, 151643, 151643,\n",
       "         151643, 151643, 151643, 151643, 151643, 151643, 151643, 151643, 151643,\n",
       "         151643, 151643, 151643, 151643, 151643, 151643, 151643, 151643, 151643,\n",
       "         151643, 151643, 151643, 151643, 151643, 151643, 151643, 151643, 151643,\n",
       "         151643, 151643, 151643,    641,   1235,     25,  16246,    264,   3482,\n",
       "           2711,   3239,     11,  17179,   9760,  46769,    429,   4226,    279,\n",
       "           3239,    198,   2859,     25,   3555,    374,   4179,   6361,     30,\n",
       "         151643],\n",
       "        [151643, 151643, 151643, 151643, 151643, 151643, 151643, 151643, 151643,\n",
       "         151643, 151643, 151643, 151643, 151643, 151643, 151643, 151643, 151643,\n",
       "         151643, 151643, 151643, 151643, 151643, 151643, 151643, 151643, 151643,\n",
       "         151643, 151643, 151643, 151643, 151643, 151643, 151643, 151643, 151643,\n",
       "         151643, 151643, 151643, 151643, 151643, 151643, 151643, 151643, 151643,\n",
       "         151643, 151643, 151643, 151643, 151643, 151643, 151643, 151643, 151643,\n",
       "         151643, 151643, 151643, 151643, 151643, 151643, 151643, 151643, 151643,\n",
       "         151643, 151643, 151643, 151643, 151643, 151643, 151643, 151643, 151643,\n",
       "         151643, 151643, 151643, 151643, 151643, 151643, 151643, 151643, 151643,\n",
       "         151643, 151643, 151643, 151643, 151643, 151643, 151643, 151643, 151643,\n",
       "         151643, 151643, 151643, 151643, 151643, 151643, 151643, 151643, 151643,\n",
       "         151643, 151643, 151643, 151643, 151643, 151643, 151643, 151643, 151643,\n",
       "         151643, 151643, 151643, 151643, 151643, 151643, 151643, 151643, 151643,\n",
       "         151643, 151643, 151643, 151643, 151643, 151643,    641,   1235,     25,\n",
       "          16246,    264,   3482,   2711,   3239,     11,  17179,   9760,  46769,\n",
       "            429,   4226,    279,   3239,    198,   2859,     25,    374,    432,\n",
       "           3204,    311,    990,   4179,   6361,    504,    279,  12528,     30,\n",
       "         151643],\n",
       "        [151643, 151643, 151643, 151643, 151643, 151643, 151643, 151643, 151643,\n",
       "         151643,   6954,   6361,    374,    264,  29679,   1849,    369,  22913,\n",
       "            323,  34108,   2750,   3941,  14155,    476,    389,    279,   1852,\n",
       "           5662,     13,   1084,   5711,    264,  69894,   4473,    369,  30450,\n",
       "           4911,   5036,     11,  10693,   2750,    311,    387,   6049,    323,\n",
       "          30020,    311,   5258,  21969,    315,   4344,     13,  26048,  56379,\n",
       "             11,   9374,   6361,   3171,    944,   3553,  10695,    476,   8201,\n",
       "             11,    323,  19836,  61424,     11,    432,   3171,    944,    614,\n",
       "            264,  57883,  22316,     13,   1084,  11554,  18833,    480,  28625,\n",
       "             11,  16653,     11,  23715,     11,    323,  25463,     13,  24979,\n",
       "            646,    387,   2176,   1349,    323,   5326,     11,    323,  30020,\n",
       "           5258,   8837,  56382,    323,    304,   1973,     13,   9374,   6361,\n",
       "            594,    821,   3561,   5646,  27594,   4494,    323,  11554,   7168,\n",
       "          66140,  47116,    369,  15024,     13,   8234,    374,  10101,    714,\n",
       "            646,    387,  44321,    448,  35158,  92795,     11,   8774,     11,\n",
       "            476,  41654,     13,   1084,    594,   5312,  54025,    323,   6188,\n",
       "            369,   3460,  58091,    448,  45261,    323,  47791,  16928,     13,\n",
       "         151643],\n",
       "        [  1986,  12528,   5316,   5006,    973,    279,   1882,    315,  22913,\n",
       "          10995,   9878,    821,    311,   4179,   6361,     13,    576,   5316,\n",
       "           8471,    553,  26312,    264,   2331,   1815,    323,   5711,   1565,\n",
       "           7338,   9878,    481,     77,    220,     16,     63,    311,   1173,\n",
       "            279,   4247,    323,    825,   1555,    315,    821,    817,   2086,\n",
       "             13,   1084,   1221,  15804,   1817,   2070,    315,    279,   2550,\n",
       "             11,  14836,   1862,    432,   1119,    264,   3415,    480,   3561,\n",
       "             11,    323,  31175,    419,    821,    311,   1565,   4711,   6361,\n",
       "             63,    311,   3037,    432,    304,    264,   6929,    438,    264,\n",
       "           1965,     13,  22406,     11,    279,   5316,    646,  23192,    323,\n",
       "           3415,   2790,   2750,    369,   1817,  10995,   9878,   2070,   3941,\n",
       "           5248,  18432,    553,  14838,    678,   9760,  12716,   1212,  37301,\n",
       "           7791,   5457,     76,   9878,   7808,  29670,    700,    279,   2790,\n",
       "           2802,     11,    323,   1667,    458,  68903,   1334,    311,   2506,\n",
       "           3754,    315,   3842,   3468,  43645,    369,   1817,   2070,     13,\n",
       "           1096,   6147,    369,   1931,   7246,  16558,    323,  51629,    315,\n",
       "           1849,   5068,  16734,   3941,    264,   3922,    315,  12645,     13,\n",
       "         151643]])"
      ]
     },
     "execution_count": 61,
     "metadata": {},
     "output_type": "execute_result"
    }
   ],
   "source": [
    "batch_dict[\"input_ids\"]"
   ]
  }
 ],
 "metadata": {
  "kernelspec": {
   "display_name": "Python 3 (ipykernel)",
   "language": "python",
   "name": "python3"
  },
  "language_info": {
   "codemirror_mode": {
    "name": "ipython",
    "version": 3
   },
   "file_extension": ".py",
   "mimetype": "text/x-python",
   "name": "python",
   "nbconvert_exporter": "python",
   "pygments_lexer": "ipython3",
   "version": "3.10.12"
  }
 },
 "nbformat": 4,
 "nbformat_minor": 5
}
